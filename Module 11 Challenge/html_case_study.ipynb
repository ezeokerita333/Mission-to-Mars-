{
 "cells": [
  {
   "cell_type": "code",
   "execution_count": 1,
   "id": "9f324015",
   "metadata": {},
   "outputs": [],
   "source": [
    "from bs4 import BeautifulSoup as soup"
   ]
  },
  {
   "cell_type": "code",
   "execution_count": 2,
   "id": "00a3018a",
   "metadata": {},
   "outputs": [],
   "source": [
    "html = \"\"\"\n",
    "<!DOCTYPE html>\n",
    "<html lang=\"en\">\n",
    "\n",
    "<head>\n",
    "    <meta charset=\"UTF-8\">\n",
    "    <meta http-equiv=\"X-UA-Compatible\" content=\"IE=edge\">\n",
    "    <meta name=\"viewport\" content=\"width=device-width, initial-scale=1.0\">\n",
    "    <title>Document</title>\n",
    "</head>\n",
    "\n",
    "<body>\n",
    "    <div>\n",
    "        <h2>First heading</h2>\n",
    "        <p>First paragraph</p>\n",
    "    </div>\n",
    "\n",
    "    <div>\n",
    "        <h2>Second heading</h2>\n",
    "        <p>Second heading</p>\n",
    "    </div>\n",
    "</body>\n",
    "\n",
    "</html>\n",
    "\"\"\""
   ]
  },
  {
   "cell_type": "code",
   "execution_count": 3,
   "id": "9efb327a",
   "metadata": {},
   "outputs": [
    {
     "name": "stdout",
     "output_type": "stream",
     "text": [
      "<!DOCTYPE html>\n",
      "<html lang=\"en\">\n",
      " <head>\n",
      "  <meta charset=\"utf-8\"/>\n",
      "  <meta content=\"IE=edge\" http-equiv=\"X-UA-Compatible\"/>\n",
      "  <meta content=\"width=device-width, initial-scale=1.0\" name=\"viewport\"/>\n",
      "  <title>\n",
      "   Document\n",
      "  </title>\n",
      " </head>\n",
      " <body>\n",
      "  <div>\n",
      "   <h2>\n",
      "    First heading\n",
      "   </h2>\n",
      "   <p>\n",
      "    First paragraph\n",
      "   </p>\n",
      "  </div>\n",
      "  <div>\n",
      "   <h2>\n",
      "    Second heading\n",
      "   </h2>\n",
      "   <p>\n",
      "    Second heading\n",
      "   </p>\n",
      "  </div>\n",
      " </body>\n",
      "</html>\n",
      "\n"
     ]
    }
   ],
   "source": [
    "html_soup = soup(html, 'html.parser')\n",
    "print(html_soup.prettify())"
   ]
  },
  {
   "cell_type": "code",
   "execution_count": 4,
   "id": "da319974",
   "metadata": {},
   "outputs": [
    {
     "data": {
      "text/plain": [
       "<title>Document</title>"
      ]
     },
     "execution_count": 4,
     "metadata": {},
     "output_type": "execute_result"
    }
   ],
   "source": [
    "html_soup.title"
   ]
  },
  {
   "cell_type": "code",
   "execution_count": 5,
   "id": "7afd166c",
   "metadata": {},
   "outputs": [
    {
     "name": "stdout",
     "output_type": "stream",
     "text": [
      "Document\n"
     ]
    }
   ],
   "source": [
    "doc_title = html_soup.title.text\n",
    "print(doc_title)\n"
   ]
  },
  {
   "cell_type": "code",
   "execution_count": 6,
   "id": "63b6b101",
   "metadata": {},
   "outputs": [
    {
     "name": "stdout",
     "output_type": "stream",
     "text": [
      "<div>\n",
      "<h2>First heading</h2>\n",
      "<p>First paragraph</p>\n",
      "</div>\n"
     ]
    }
   ],
   "source": [
    "div = html_soup.find(\"div\")\n",
    "print(div)"
   ]
  },
  {
   "cell_type": "code",
   "execution_count": 8,
   "id": "de3995d8",
   "metadata": {},
   "outputs": [
    {
     "name": "stdout",
     "output_type": "stream",
     "text": [
      "First heading\n"
     ]
    }
   ],
   "source": [
    "doc_heading = html_soup.find(\"h2\").text\n",
    "print(doc_heading)"
   ]
  },
  {
   "cell_type": "code",
   "execution_count": 9,
   "id": "c62f857d",
   "metadata": {},
   "outputs": [
    {
     "name": "stdout",
     "output_type": "stream",
     "text": [
      "First paragraph\n"
     ]
    }
   ],
   "source": [
    "doc_paragraph = html_soup.find(\"p\").text\n",
    "print(doc_paragraph)"
   ]
  },
  {
   "cell_type": "code",
   "execution_count": 10,
   "id": "dc3a7096",
   "metadata": {},
   "outputs": [
    {
     "name": "stdout",
     "output_type": "stream",
     "text": [
      "{'title': 'Document', 'heading': 'First heading', 'paragraph': 'First paragraph'}\n"
     ]
    }
   ],
   "source": [
    "doc_info = {\"title\": doc_title,\n",
    "            \"heading\": doc_heading,\n",
    "            \"paragraph\": doc_paragraph}\n",
    "print(doc_info)"
   ]
  },
  {
   "cell_type": "code",
   "execution_count": null,
   "id": "7878be46",
   "metadata": {},
   "outputs": [],
   "source": []
  }
 ],
 "metadata": {
  "kernelspec": {
   "display_name": "PythonData",
   "language": "python",
   "name": "pythondata"
  },
  "language_info": {
   "codemirror_mode": {
    "name": "ipython",
    "version": 3
   },
   "file_extension": ".py",
   "mimetype": "text/x-python",
   "name": "python",
   "nbconvert_exporter": "python",
   "pygments_lexer": "ipython3",
   "version": "3.9.12"
  }
 },
 "nbformat": 4,
 "nbformat_minor": 5
}
